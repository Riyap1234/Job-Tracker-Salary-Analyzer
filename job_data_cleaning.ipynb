{
 "cells": [
  {
   "cell_type": "markdown",
   "id": "fd9efe7e-b8de-4eb7-b497-569ff34b80d5",
   "metadata": {},
   "source": [
    "### 📁 Load Job Data\n",
    "Load the job listings dataset and preview the first few rows."
   ]
  },
  {
   "cell_type": "code",
   "execution_count": 3,
   "id": "a525b73b-2665-4aac-80f4-23383097f07b",
   "metadata": {},
   "outputs": [
    {
     "data": {
      "text/html": [
       "<div>\n",
       "<style scoped>\n",
       "    .dataframe tbody tr th:only-of-type {\n",
       "        vertical-align: middle;\n",
       "    }\n",
       "\n",
       "    .dataframe tbody tr th {\n",
       "        vertical-align: top;\n",
       "    }\n",
       "\n",
       "    .dataframe thead th {\n",
       "        text-align: right;\n",
       "    }\n",
       "</style>\n",
       "<table border=\"1\" class=\"dataframe\">\n",
       "  <thead>\n",
       "    <tr style=\"text-align: right;\">\n",
       "      <th></th>\n",
       "      <th>Job Title</th>\n",
       "      <th>Company</th>\n",
       "      <th>Location</th>\n",
       "      <th>Salary</th>\n",
       "      <th>Experience Required</th>\n",
       "      <th>Skills</th>\n",
       "      <th>Date Posted</th>\n",
       "    </tr>\n",
       "  </thead>\n",
       "  <tbody>\n",
       "    <tr>\n",
       "      <th>0</th>\n",
       "      <td>Data Analyst</td>\n",
       "      <td>ABC Corp</td>\n",
       "      <td>Delhi</td>\n",
       "      <td>₹6,00,000</td>\n",
       "      <td>1-2 years</td>\n",
       "      <td>SQL, Excel</td>\n",
       "      <td>2025-06-01</td>\n",
       "    </tr>\n",
       "    <tr>\n",
       "      <th>1</th>\n",
       "      <td>Business Analyst</td>\n",
       "      <td>XYZ Ltd</td>\n",
       "      <td>Bangalore</td>\n",
       "      <td>₹7,50,000</td>\n",
       "      <td>2-3 years</td>\n",
       "      <td>Excel, Tableau</td>\n",
       "      <td>2025-06-03</td>\n",
       "    </tr>\n",
       "    <tr>\n",
       "      <th>2</th>\n",
       "      <td>Data Scientist</td>\n",
       "      <td>DataCo</td>\n",
       "      <td>Mumbai</td>\n",
       "      <td>₹12,00,000</td>\n",
       "      <td>3-5 years</td>\n",
       "      <td>Python, ML, SQL</td>\n",
       "      <td>2025-06-04</td>\n",
       "    </tr>\n",
       "    <tr>\n",
       "      <th>3</th>\n",
       "      <td>Python Developer</td>\n",
       "      <td>TechSoft</td>\n",
       "      <td>Remote</td>\n",
       "      <td>₹8,00,000</td>\n",
       "      <td>1-2 years</td>\n",
       "      <td>Python, Django</td>\n",
       "      <td>2025-06-06</td>\n",
       "    </tr>\n",
       "    <tr>\n",
       "      <th>4</th>\n",
       "      <td>Data Engineer</td>\n",
       "      <td>Engineeria</td>\n",
       "      <td>Hyderabad</td>\n",
       "      <td>₹10,50,000</td>\n",
       "      <td>2-4 years</td>\n",
       "      <td>SQL, Python, Spark</td>\n",
       "      <td>2025-06-07</td>\n",
       "    </tr>\n",
       "  </tbody>\n",
       "</table>\n",
       "</div>"
      ],
      "text/plain": [
       "          Job Title     Company   Location      Salary Experience Required  \\\n",
       "0      Data Analyst    ABC Corp      Delhi   ₹6,00,000           1-2 years   \n",
       "1  Business Analyst     XYZ Ltd  Bangalore   ₹7,50,000           2-3 years   \n",
       "2    Data Scientist      DataCo     Mumbai  ₹12,00,000           3-5 years   \n",
       "3  Python Developer    TechSoft     Remote   ₹8,00,000           1-2 years   \n",
       "4     Data Engineer  Engineeria  Hyderabad  ₹10,50,000           2-4 years   \n",
       "\n",
       "               Skills Date Posted  \n",
       "0          SQL, Excel  2025-06-01  \n",
       "1      Excel, Tableau  2025-06-03  \n",
       "2     Python, ML, SQL  2025-06-04  \n",
       "3      Python, Django  2025-06-06  \n",
       "4  SQL, Python, Spark  2025-06-07  "
      ]
     },
     "execution_count": 3,
     "metadata": {},
     "output_type": "execute_result"
    }
   ],
   "source": [
    "import pandas as pd\n",
    "\n",
    "# Load data\n",
    "file_path = \"C:/Users/as/Desktop/Projects/Job_Tracker_Salary_Analyzer/input_files/jobs_data.csv\"\n",
    "df = pd.read_csv(file_path)\n",
    "\n",
    "# Show the first few rows\n",
    "df.head()"
   ]
  },
  {
   "cell_type": "markdown",
   "id": "18778a24-fcd8-48aa-aa5e-995fd24777bd",
   "metadata": {},
   "source": [
    "### 💰 Clean the Salary Column\n",
    "Remove currency symbols and convert salary to integer format."
   ]
  },
  {
   "cell_type": "code",
   "execution_count": 5,
   "id": "87518310-5484-487a-aba6-bef2c4e552d0",
   "metadata": {},
   "outputs": [
    {
     "data": {
      "text/html": [
       "<div>\n",
       "<style scoped>\n",
       "    .dataframe tbody tr th:only-of-type {\n",
       "        vertical-align: middle;\n",
       "    }\n",
       "\n",
       "    .dataframe tbody tr th {\n",
       "        vertical-align: top;\n",
       "    }\n",
       "\n",
       "    .dataframe thead th {\n",
       "        text-align: right;\n",
       "    }\n",
       "</style>\n",
       "<table border=\"1\" class=\"dataframe\">\n",
       "  <thead>\n",
       "    <tr style=\"text-align: right;\">\n",
       "      <th></th>\n",
       "      <th>Job Title</th>\n",
       "      <th>Company</th>\n",
       "      <th>Location</th>\n",
       "      <th>Salary</th>\n",
       "      <th>Experience Required</th>\n",
       "      <th>Skills</th>\n",
       "      <th>Date Posted</th>\n",
       "    </tr>\n",
       "  </thead>\n",
       "  <tbody>\n",
       "    <tr>\n",
       "      <th>0</th>\n",
       "      <td>Data Analyst</td>\n",
       "      <td>ABC Corp</td>\n",
       "      <td>Delhi</td>\n",
       "      <td>600000</td>\n",
       "      <td>1-2 years</td>\n",
       "      <td>SQL, Excel</td>\n",
       "      <td>2025-06-01</td>\n",
       "    </tr>\n",
       "    <tr>\n",
       "      <th>1</th>\n",
       "      <td>Business Analyst</td>\n",
       "      <td>XYZ Ltd</td>\n",
       "      <td>Bangalore</td>\n",
       "      <td>750000</td>\n",
       "      <td>2-3 years</td>\n",
       "      <td>Excel, Tableau</td>\n",
       "      <td>2025-06-03</td>\n",
       "    </tr>\n",
       "    <tr>\n",
       "      <th>2</th>\n",
       "      <td>Data Scientist</td>\n",
       "      <td>DataCo</td>\n",
       "      <td>Mumbai</td>\n",
       "      <td>1200000</td>\n",
       "      <td>3-5 years</td>\n",
       "      <td>Python, ML, SQL</td>\n",
       "      <td>2025-06-04</td>\n",
       "    </tr>\n",
       "    <tr>\n",
       "      <th>3</th>\n",
       "      <td>Python Developer</td>\n",
       "      <td>TechSoft</td>\n",
       "      <td>Remote</td>\n",
       "      <td>800000</td>\n",
       "      <td>1-2 years</td>\n",
       "      <td>Python, Django</td>\n",
       "      <td>2025-06-06</td>\n",
       "    </tr>\n",
       "    <tr>\n",
       "      <th>4</th>\n",
       "      <td>Data Engineer</td>\n",
       "      <td>Engineeria</td>\n",
       "      <td>Hyderabad</td>\n",
       "      <td>1050000</td>\n",
       "      <td>2-4 years</td>\n",
       "      <td>SQL, Python, Spark</td>\n",
       "      <td>2025-06-07</td>\n",
       "    </tr>\n",
       "  </tbody>\n",
       "</table>\n",
       "</div>"
      ],
      "text/plain": [
       "          Job Title     Company   Location   Salary Experience Required  \\\n",
       "0      Data Analyst    ABC Corp      Delhi   600000           1-2 years   \n",
       "1  Business Analyst     XYZ Ltd  Bangalore   750000           2-3 years   \n",
       "2    Data Scientist      DataCo     Mumbai  1200000           3-5 years   \n",
       "3  Python Developer    TechSoft     Remote   800000           1-2 years   \n",
       "4     Data Engineer  Engineeria  Hyderabad  1050000           2-4 years   \n",
       "\n",
       "               Skills Date Posted  \n",
       "0          SQL, Excel  2025-06-01  \n",
       "1      Excel, Tableau  2025-06-03  \n",
       "2     Python, ML, SQL  2025-06-04  \n",
       "3      Python, Django  2025-06-06  \n",
       "4  SQL, Python, Spark  2025-06-07  "
      ]
     },
     "execution_count": 5,
     "metadata": {},
     "output_type": "execute_result"
    }
   ],
   "source": [
    "# Remove ₹ and commas, convert to int\n",
    "df['Salary'] = df['Salary'].replace('[₹,]', '', regex=True).astype(int)\n",
    "df.head()"
   ]
  },
  {
   "cell_type": "markdown",
   "id": "20d85f85-7f47-4a7d-9c48-ec3774b0fed4",
   "metadata": {},
   "source": [
    "### 👩‍💼 Extract Minimum and Maximum Experience\n",
    "Split the 'Experience Required' column into separate numeric columns."
   ]
  },
  {
   "cell_type": "code",
   "execution_count": 7,
   "id": "396665f2-80c0-4c93-a03f-1a20c65084df",
   "metadata": {},
   "outputs": [
    {
     "data": {
      "text/html": [
       "<div>\n",
       "<style scoped>\n",
       "    .dataframe tbody tr th:only-of-type {\n",
       "        vertical-align: middle;\n",
       "    }\n",
       "\n",
       "    .dataframe tbody tr th {\n",
       "        vertical-align: top;\n",
       "    }\n",
       "\n",
       "    .dataframe thead th {\n",
       "        text-align: right;\n",
       "    }\n",
       "</style>\n",
       "<table border=\"1\" class=\"dataframe\">\n",
       "  <thead>\n",
       "    <tr style=\"text-align: right;\">\n",
       "      <th></th>\n",
       "      <th>Job Title</th>\n",
       "      <th>Company</th>\n",
       "      <th>Location</th>\n",
       "      <th>Salary</th>\n",
       "      <th>Experience Required</th>\n",
       "      <th>Skills</th>\n",
       "      <th>Date Posted</th>\n",
       "      <th>Min_Exp</th>\n",
       "      <th>Max_Exp</th>\n",
       "    </tr>\n",
       "  </thead>\n",
       "  <tbody>\n",
       "    <tr>\n",
       "      <th>0</th>\n",
       "      <td>Data Analyst</td>\n",
       "      <td>ABC Corp</td>\n",
       "      <td>Delhi</td>\n",
       "      <td>600000</td>\n",
       "      <td>1-2 years</td>\n",
       "      <td>SQL, Excel</td>\n",
       "      <td>2025-06-01</td>\n",
       "      <td>1.0</td>\n",
       "      <td>2.0</td>\n",
       "    </tr>\n",
       "    <tr>\n",
       "      <th>1</th>\n",
       "      <td>Business Analyst</td>\n",
       "      <td>XYZ Ltd</td>\n",
       "      <td>Bangalore</td>\n",
       "      <td>750000</td>\n",
       "      <td>2-3 years</td>\n",
       "      <td>Excel, Tableau</td>\n",
       "      <td>2025-06-03</td>\n",
       "      <td>2.0</td>\n",
       "      <td>3.0</td>\n",
       "    </tr>\n",
       "    <tr>\n",
       "      <th>2</th>\n",
       "      <td>Data Scientist</td>\n",
       "      <td>DataCo</td>\n",
       "      <td>Mumbai</td>\n",
       "      <td>1200000</td>\n",
       "      <td>3-5 years</td>\n",
       "      <td>Python, ML, SQL</td>\n",
       "      <td>2025-06-04</td>\n",
       "      <td>3.0</td>\n",
       "      <td>5.0</td>\n",
       "    </tr>\n",
       "    <tr>\n",
       "      <th>3</th>\n",
       "      <td>Python Developer</td>\n",
       "      <td>TechSoft</td>\n",
       "      <td>Remote</td>\n",
       "      <td>800000</td>\n",
       "      <td>1-2 years</td>\n",
       "      <td>Python, Django</td>\n",
       "      <td>2025-06-06</td>\n",
       "      <td>1.0</td>\n",
       "      <td>2.0</td>\n",
       "    </tr>\n",
       "    <tr>\n",
       "      <th>4</th>\n",
       "      <td>Data Engineer</td>\n",
       "      <td>Engineeria</td>\n",
       "      <td>Hyderabad</td>\n",
       "      <td>1050000</td>\n",
       "      <td>2-4 years</td>\n",
       "      <td>SQL, Python, Spark</td>\n",
       "      <td>2025-06-07</td>\n",
       "      <td>2.0</td>\n",
       "      <td>4.0</td>\n",
       "    </tr>\n",
       "  </tbody>\n",
       "</table>\n",
       "</div>"
      ],
      "text/plain": [
       "          Job Title     Company   Location   Salary Experience Required  \\\n",
       "0      Data Analyst    ABC Corp      Delhi   600000           1-2 years   \n",
       "1  Business Analyst     XYZ Ltd  Bangalore   750000           2-3 years   \n",
       "2    Data Scientist      DataCo     Mumbai  1200000           3-5 years   \n",
       "3  Python Developer    TechSoft     Remote   800000           1-2 years   \n",
       "4     Data Engineer  Engineeria  Hyderabad  1050000           2-4 years   \n",
       "\n",
       "               Skills Date Posted  Min_Exp  Max_Exp  \n",
       "0          SQL, Excel  2025-06-01      1.0      2.0  \n",
       "1      Excel, Tableau  2025-06-03      2.0      3.0  \n",
       "2     Python, ML, SQL  2025-06-04      3.0      5.0  \n",
       "3      Python, Django  2025-06-06      1.0      2.0  \n",
       "4  SQL, Python, Spark  2025-06-07      2.0      4.0  "
      ]
     },
     "execution_count": 7,
     "metadata": {},
     "output_type": "execute_result"
    }
   ],
   "source": [
    "# Split the experience column into min and max\n",
    "df[['Min_Exp', 'Max_Exp']] = df['Experience Required'].str.extract(r'(\\d+)-(\\d+)').astype(float)\n",
    "df.head()"
   ]
  },
  {
   "cell_type": "markdown",
   "id": "8235c163-4b2d-4025-b179-3fa8746c82c9",
   "metadata": {},
   "source": [
    "### 🛠️ Convert Skills to List Format\n",
    "Split skills string into a list for each row."
   ]
  },
  {
   "cell_type": "code",
   "execution_count": 9,
   "id": "785d9819-64c6-4cb3-b28c-cf557079b6b5",
   "metadata": {},
   "outputs": [
    {
     "data": {
      "text/html": [
       "<div>\n",
       "<style scoped>\n",
       "    .dataframe tbody tr th:only-of-type {\n",
       "        vertical-align: middle;\n",
       "    }\n",
       "\n",
       "    .dataframe tbody tr th {\n",
       "        vertical-align: top;\n",
       "    }\n",
       "\n",
       "    .dataframe thead th {\n",
       "        text-align: right;\n",
       "    }\n",
       "</style>\n",
       "<table border=\"1\" class=\"dataframe\">\n",
       "  <thead>\n",
       "    <tr style=\"text-align: right;\">\n",
       "      <th></th>\n",
       "      <th>Job Title</th>\n",
       "      <th>Company</th>\n",
       "      <th>Location</th>\n",
       "      <th>Salary</th>\n",
       "      <th>Experience Required</th>\n",
       "      <th>Skills</th>\n",
       "      <th>Date Posted</th>\n",
       "      <th>Min_Exp</th>\n",
       "      <th>Max_Exp</th>\n",
       "    </tr>\n",
       "  </thead>\n",
       "  <tbody>\n",
       "    <tr>\n",
       "      <th>0</th>\n",
       "      <td>Data Analyst</td>\n",
       "      <td>ABC Corp</td>\n",
       "      <td>Delhi</td>\n",
       "      <td>600000</td>\n",
       "      <td>1-2 years</td>\n",
       "      <td>[SQL, Excel]</td>\n",
       "      <td>2025-06-01</td>\n",
       "      <td>1.0</td>\n",
       "      <td>2.0</td>\n",
       "    </tr>\n",
       "    <tr>\n",
       "      <th>1</th>\n",
       "      <td>Business Analyst</td>\n",
       "      <td>XYZ Ltd</td>\n",
       "      <td>Bangalore</td>\n",
       "      <td>750000</td>\n",
       "      <td>2-3 years</td>\n",
       "      <td>[Excel, Tableau]</td>\n",
       "      <td>2025-06-03</td>\n",
       "      <td>2.0</td>\n",
       "      <td>3.0</td>\n",
       "    </tr>\n",
       "    <tr>\n",
       "      <th>2</th>\n",
       "      <td>Data Scientist</td>\n",
       "      <td>DataCo</td>\n",
       "      <td>Mumbai</td>\n",
       "      <td>1200000</td>\n",
       "      <td>3-5 years</td>\n",
       "      <td>[Python, ML, SQL]</td>\n",
       "      <td>2025-06-04</td>\n",
       "      <td>3.0</td>\n",
       "      <td>5.0</td>\n",
       "    </tr>\n",
       "    <tr>\n",
       "      <th>3</th>\n",
       "      <td>Python Developer</td>\n",
       "      <td>TechSoft</td>\n",
       "      <td>Remote</td>\n",
       "      <td>800000</td>\n",
       "      <td>1-2 years</td>\n",
       "      <td>[Python, Django]</td>\n",
       "      <td>2025-06-06</td>\n",
       "      <td>1.0</td>\n",
       "      <td>2.0</td>\n",
       "    </tr>\n",
       "    <tr>\n",
       "      <th>4</th>\n",
       "      <td>Data Engineer</td>\n",
       "      <td>Engineeria</td>\n",
       "      <td>Hyderabad</td>\n",
       "      <td>1050000</td>\n",
       "      <td>2-4 years</td>\n",
       "      <td>[SQL, Python, Spark]</td>\n",
       "      <td>2025-06-07</td>\n",
       "      <td>2.0</td>\n",
       "      <td>4.0</td>\n",
       "    </tr>\n",
       "  </tbody>\n",
       "</table>\n",
       "</div>"
      ],
      "text/plain": [
       "          Job Title     Company   Location   Salary Experience Required  \\\n",
       "0      Data Analyst    ABC Corp      Delhi   600000           1-2 years   \n",
       "1  Business Analyst     XYZ Ltd  Bangalore   750000           2-3 years   \n",
       "2    Data Scientist      DataCo     Mumbai  1200000           3-5 years   \n",
       "3  Python Developer    TechSoft     Remote   800000           1-2 years   \n",
       "4     Data Engineer  Engineeria  Hyderabad  1050000           2-4 years   \n",
       "\n",
       "                 Skills Date Posted  Min_Exp  Max_Exp  \n",
       "0          [SQL, Excel]  2025-06-01      1.0      2.0  \n",
       "1      [Excel, Tableau]  2025-06-03      2.0      3.0  \n",
       "2     [Python, ML, SQL]  2025-06-04      3.0      5.0  \n",
       "3      [Python, Django]  2025-06-06      1.0      2.0  \n",
       "4  [SQL, Python, Spark]  2025-06-07      2.0      4.0  "
      ]
     },
     "execution_count": 9,
     "metadata": {},
     "output_type": "execute_result"
    }
   ],
   "source": [
    "# Convert comma-separated skills into list\n",
    "df['Skills'] = df['Skills'].apply(lambda x: [skill.strip() for skill in x.split(',')])\n",
    "df.head()"
   ]
  },
  {
   "cell_type": "markdown",
   "id": "5df6477b-e6be-4dac-a04a-8cfc3ef0d4e8",
   "metadata": {},
   "source": [
    "### 📌 Most Common Job Titles\n",
    "Identify which job titles appear most frequently."
   ]
  },
  {
   "cell_type": "code",
   "execution_count": 11,
   "id": "114b1a62-7865-473d-bfc1-2d8cfd39fc0e",
   "metadata": {},
   "outputs": [
    {
     "data": {
      "text/plain": [
       "Job Title\n",
       "Data Analyst        1\n",
       "Business Analyst    1\n",
       "Data Scientist      1\n",
       "Python Developer    1\n",
       "Data Engineer       1\n",
       "Name: count, dtype: int64"
      ]
     },
     "execution_count": 11,
     "metadata": {},
     "output_type": "execute_result"
    }
   ],
   "source": [
    "df['Job Title'].value_counts()"
   ]
  },
  {
   "cell_type": "markdown",
   "id": "46948d29-b3ad-4aa6-9056-4ddb1272d9cf",
   "metadata": {},
   "source": [
    "### 💸 Average Salary by Job Title\n",
    "Find the average salary offered for each job title."
   ]
  },
  {
   "cell_type": "code",
   "execution_count": 13,
   "id": "51056a1f-83a7-4726-bf81-432ce64a6625",
   "metadata": {},
   "outputs": [
    {
     "data": {
      "text/plain": [
       "Job Title\n",
       "Data Scientist      1200000.0\n",
       "Data Engineer       1050000.0\n",
       "Python Developer     800000.0\n",
       "Business Analyst     750000.0\n",
       "Data Analyst         600000.0\n",
       "Name: Salary, dtype: float64"
      ]
     },
     "execution_count": 13,
     "metadata": {},
     "output_type": "execute_result"
    }
   ],
   "source": [
    "df.groupby('Job Title')['Salary'].mean().sort_values(ascending=False)"
   ]
  },
  {
   "cell_type": "markdown",
   "id": "4c1485bd-9609-4474-b9fb-ae0cd2ad8a2c",
   "metadata": {},
   "source": [
    "### 📊 Average Experience Required by Role\n",
    "Check average min and max experience for each job role."
   ]
  },
  {
   "cell_type": "code",
   "execution_count": 15,
   "id": "c88b5948-a337-45cc-a856-7a563c6a60ad",
   "metadata": {},
   "outputs": [
    {
     "data": {
      "text/html": [
       "<div>\n",
       "<style scoped>\n",
       "    .dataframe tbody tr th:only-of-type {\n",
       "        vertical-align: middle;\n",
       "    }\n",
       "\n",
       "    .dataframe tbody tr th {\n",
       "        vertical-align: top;\n",
       "    }\n",
       "\n",
       "    .dataframe thead th {\n",
       "        text-align: right;\n",
       "    }\n",
       "</style>\n",
       "<table border=\"1\" class=\"dataframe\">\n",
       "  <thead>\n",
       "    <tr style=\"text-align: right;\">\n",
       "      <th></th>\n",
       "      <th>Min_Exp</th>\n",
       "      <th>Max_Exp</th>\n",
       "    </tr>\n",
       "    <tr>\n",
       "      <th>Job Title</th>\n",
       "      <th></th>\n",
       "      <th></th>\n",
       "    </tr>\n",
       "  </thead>\n",
       "  <tbody>\n",
       "    <tr>\n",
       "      <th>Business Analyst</th>\n",
       "      <td>2.0</td>\n",
       "      <td>3.0</td>\n",
       "    </tr>\n",
       "    <tr>\n",
       "      <th>Data Analyst</th>\n",
       "      <td>1.0</td>\n",
       "      <td>2.0</td>\n",
       "    </tr>\n",
       "    <tr>\n",
       "      <th>Data Engineer</th>\n",
       "      <td>2.0</td>\n",
       "      <td>4.0</td>\n",
       "    </tr>\n",
       "    <tr>\n",
       "      <th>Data Scientist</th>\n",
       "      <td>3.0</td>\n",
       "      <td>5.0</td>\n",
       "    </tr>\n",
       "    <tr>\n",
       "      <th>Python Developer</th>\n",
       "      <td>1.0</td>\n",
       "      <td>2.0</td>\n",
       "    </tr>\n",
       "  </tbody>\n",
       "</table>\n",
       "</div>"
      ],
      "text/plain": [
       "                  Min_Exp  Max_Exp\n",
       "Job Title                         \n",
       "Business Analyst      2.0      3.0\n",
       "Data Analyst          1.0      2.0\n",
       "Data Engineer         2.0      4.0\n",
       "Data Scientist        3.0      5.0\n",
       "Python Developer      1.0      2.0"
      ]
     },
     "execution_count": 15,
     "metadata": {},
     "output_type": "execute_result"
    }
   ],
   "source": [
    "df.groupby('Job Title')[['Min_Exp', 'Max_Exp']].mean()"
   ]
  },
  {
   "cell_type": "markdown",
   "id": "0ba5c522-03f0-42a7-901d-217569a443b3",
   "metadata": {},
   "source": [
    "### 🧠 Most In-Demand Skills\n",
    "List the most frequently mentioned skills in all job listings."
   ]
  },
  {
   "cell_type": "code",
   "execution_count": 17,
   "id": "50169a62-05ef-4a21-ae85-a2c9776670fd",
   "metadata": {},
   "outputs": [
    {
     "data": {
      "text/html": [
       "<div>\n",
       "<style scoped>\n",
       "    .dataframe tbody tr th:only-of-type {\n",
       "        vertical-align: middle;\n",
       "    }\n",
       "\n",
       "    .dataframe tbody tr th {\n",
       "        vertical-align: top;\n",
       "    }\n",
       "\n",
       "    .dataframe thead th {\n",
       "        text-align: right;\n",
       "    }\n",
       "</style>\n",
       "<table border=\"1\" class=\"dataframe\">\n",
       "  <thead>\n",
       "    <tr style=\"text-align: right;\">\n",
       "      <th></th>\n",
       "      <th>Skill</th>\n",
       "      <th>Count</th>\n",
       "    </tr>\n",
       "  </thead>\n",
       "  <tbody>\n",
       "    <tr>\n",
       "      <th>0</th>\n",
       "      <td>SQL</td>\n",
       "      <td>3</td>\n",
       "    </tr>\n",
       "    <tr>\n",
       "      <th>1</th>\n",
       "      <td>Python</td>\n",
       "      <td>3</td>\n",
       "    </tr>\n",
       "    <tr>\n",
       "      <th>2</th>\n",
       "      <td>Excel</td>\n",
       "      <td>2</td>\n",
       "    </tr>\n",
       "    <tr>\n",
       "      <th>3</th>\n",
       "      <td>Tableau</td>\n",
       "      <td>1</td>\n",
       "    </tr>\n",
       "    <tr>\n",
       "      <th>4</th>\n",
       "      <td>ML</td>\n",
       "      <td>1</td>\n",
       "    </tr>\n",
       "    <tr>\n",
       "      <th>5</th>\n",
       "      <td>Django</td>\n",
       "      <td>1</td>\n",
       "    </tr>\n",
       "    <tr>\n",
       "      <th>6</th>\n",
       "      <td>Spark</td>\n",
       "      <td>1</td>\n",
       "    </tr>\n",
       "  </tbody>\n",
       "</table>\n",
       "</div>"
      ],
      "text/plain": [
       "     Skill  Count\n",
       "0      SQL      3\n",
       "1   Python      3\n",
       "2    Excel      2\n",
       "3  Tableau      1\n",
       "4       ML      1\n",
       "5   Django      1\n",
       "6    Spark      1"
      ]
     },
     "execution_count": 17,
     "metadata": {},
     "output_type": "execute_result"
    }
   ],
   "source": [
    "from collections import Counter\n",
    "\n",
    "# Flatten skill lists\n",
    "all_skills = sum(df['Skills'], [])\n",
    "skill_counts = Counter(all_skills)\n",
    "\n",
    "# Display top skills\n",
    "pd.DataFrame(skill_counts.most_common(), columns=['Skill', 'Count'])"
   ]
  },
  {
   "cell_type": "markdown",
   "id": "3b341fa7-0b14-4908-b365-da699e474a54",
   "metadata": {},
   "source": [
    "### 📈 Top 5 In-Demand Skills (Bar Chart)\n",
    "Visualize the top 5 skills in a bar chart."
   ]
  },
  {
   "cell_type": "code",
   "execution_count": 19,
   "id": "01b6fd88-16fc-411f-9ee0-6adae0bc5cce",
   "metadata": {},
   "outputs": [
    {
     "data": {
      "image/png": "[encoded data removed]",
      "text/plain": [
       "<Figure size 800x500 with 1 Axes>"
      ]
     },
     "metadata": {},
     "output_type": "display_data"
    }
   ],
   "source": [
    "import matplotlib.pyplot as plt\n",
    "\n",
    "# Top 5 skills\n",
    "top_skills = pd.DataFrame(skill_counts.most_common(5), columns=['Skill', 'Count'])\n",
    "\n",
    "plt.figure(figsize=(8,5))\n",
    "plt.bar(top_skills['Skill'], top_skills['Count'], color='skyblue')\n",
    "plt.title('Top 5 In-Demand Skills')\n",
    "plt.ylabel('Count')\n",
    "plt.show()"
   ]
  },
  {
   "cell_type": "markdown",
   "id": "9b298feb-c0ce-473e-92a2-d6999b6a9fe7",
   "metadata": {},
   "source": [
    "### 💾 Export Cleaned Job Data\n",
    "Save the cleaned dataset for future use or visualization."
   ]
  },
  {
   "cell_type": "code",
   "execution_count": 36,
   "id": "a60b57bb-ccff-400d-81f4-520ed28b1a0d",
   "metadata": {},
   "outputs": [
    {
     "name": "stdout",
     "output_type": "stream",
     "text": [
      "✅ Cleaned job data saved successfully at: C:/Users/as/Desktop/Projects/Job_Tracker_Salary_Analyzer/cleaned_data/cleaned_jobs_data.csv\n"
     ]
    }
   ],
   "source": [
    "# Corrected path to match your folder\n",
    "output_path = \"C:/Users/as/Desktop/Projects/Job_Tracker_Salary_Analyzer/cleaned_data/cleaned_jobs_data.csv\"\n",
    "\n",
    "# Create the folder if it doesn't exist\n",
    "import os\n",
    "os.makedirs(os.path.dirname(output_path), exist_ok=True)\n",
    "\n",
    "# Save the file\n",
    "df.to_csv(output_path, index=False)\n",
    "print(\"✅ Cleaned job data saved successfully at:\", output_path)"
   ]
  },
  {
   "cell_type": "markdown",
   "id": "9519ed15-e1d6-4951-9d7d-d4f0052f506e",
   "metadata": {},
   "source": [
    "### 📊 Export Summary Tables to Analysis Folder"
   ]
  },
  {
   "cell_type": "code",
   "execution_count": 41,
   "id": "de727c56-42c0-4b10-a6ea-0ab22eb2b4ec",
   "metadata": {},
   "outputs": [
    {
     "name": "stdout",
     "output_type": "stream",
     "text": [
      "✅ In-demand skills saved successfully.\n"
     ]
    }
   ],
   "source": [
    "# Safely extract all skills from the column\n",
    "from collections import Counter\n",
    "\n",
    "# Filter rows where Skills is a string\n",
    "valid_skills = df['Skills'].dropna().apply(lambda x: x if isinstance(x, str) else '')\n",
    "\n",
    "# Split and flatten the list\n",
    "skill_counter = Counter([skill.strip() \n",
    "                         for skills in valid_skills \n",
    "                         for skill in skills.split(',') if skill.strip() != ''])\n",
    "\n",
    "# Create dataframe and save\n",
    "skill_df = pd.DataFrame(skill_counter.items(), columns=['Skill', 'Count']).sort_values(by='Count', ascending=False)\n",
    "skill_df.to_csv(\"C:/Users/as/Desktop/Projects/Job_Tracker_Salary_Analyzer/analysis/in_demand_skills.csv\", index=False)\n",
    "\n",
    "print(\"✅ In-demand skills saved successfully.\")"
   ]
  },
  {
   "cell_type": "code",
   "execution_count": null,
   "id": "f164f6fc-25ab-46a7-ba7f-1c7f0170f3a5",
   "metadata": {},
   "outputs": [],
   "source": []
  }
 ],
 "metadata": {
  "kernelspec": {
   "display_name": "Python [conda env:base] *",
   "language": "python",
   "name": "conda-base-py"
  },
  "language_info": {
   "codemirror_mode": {
    "name": "ipython",
    "version": 3
   },
   "file_extension": ".py",
   "mimetype": "text/x-python",
   "name": "python",
   "nbconvert_exporter": "python",
   "pygments_lexer": "ipython3",
   "version": "3.12.7"
  }
 },
 "nbformat": 4,
 "nbformat_minor": 5
}
